{
 "cells": [
  {
   "cell_type": "code",
   "execution_count": 27,
   "id": "e9d94bcd",
   "metadata": {},
   "outputs": [],
   "source": [
    "import os\n",
    "import csv"
   ]
  },
  {
   "cell_type": "code",
   "execution_count": 28,
   "id": "8cac10d5",
   "metadata": {},
   "outputs": [],
   "source": [
    "def list_files(folder_path):\n",
    "    file_list = []\n",
    "    for root, dirs, files in os.walk(folder_path):\n",
    "        for file in files:\n",
    "            file_path = os.path.join(root, file)\n",
    "            file_type = os.path.splitext(file)[1][1:]  # Extract file extension (type)\n",
    "\n",
    "            file_list.append({'FileName': file, 'FileType': file_type, 'FilePath': file_path})\n",
    "\n",
    "    return file_list"
   ]
  },
  {
   "cell_type": "code",
   "execution_count": 29,
   "id": "92aa9002",
   "metadata": {},
   "outputs": [],
   "source": [
    "def clean_filename(filename):\n",
    "    # Remove invalid characters from the filename\n",
    "    return ''.join(char for char in filename if char.isprintable())"
   ]
  },
  {
   "cell_type": "code",
   "execution_count": 30,
   "id": "07a43069",
   "metadata": {},
   "outputs": [],
   "source": [
    "def write_to_csv(file_list, csv_file):\n",
    "    with open(clean_filename(csv_file), 'w', newline='') as csvfile:\n",
    "        fieldnames = ['FileName', 'FileType', 'FilePath']\n",
    "        writer = csv.DictWriter(csvfile, fieldnames=fieldnames)\n",
    "\n",
    "        writer.writeheader()\n",
    "        for file_info in file_list:\n",
    "            writer.writerow(file_info)"
   ]
  },
  {
   "cell_type": "code",
   "execution_count": 33,
   "id": "eeb1c95d",
   "metadata": {},
   "outputs": [],
   "source": [
    "# Example usage:\n",
    "folder_path = 'HOBO-Pilot Data'\n",
    "csv_file = 'HOBO-Pilot Data.csv'\n"
   ]
  },
  {
   "cell_type": "code",
   "execution_count": 34,
   "id": "52ba5051",
   "metadata": {},
   "outputs": [],
   "source": [
    "files_info = list_files(folder_path)\n",
    "write_to_csv(files_info, csv_file)"
   ]
  },
  {
   "cell_type": "code",
   "execution_count": null,
   "id": "acb42368",
   "metadata": {},
   "outputs": [],
   "source": []
  }
 ],
 "metadata": {
  "hide_input": false,
  "kernelspec": {
   "display_name": "Python 3 (ipykernel)",
   "language": "python",
   "name": "python3"
  },
  "language_info": {
   "codemirror_mode": {
    "name": "ipython",
    "version": 3
   },
   "file_extension": ".py",
   "mimetype": "text/x-python",
   "name": "python",
   "nbconvert_exporter": "python",
   "pygments_lexer": "ipython3",
   "version": "3.8.18"
  }
 },
 "nbformat": 4,
 "nbformat_minor": 5
}
